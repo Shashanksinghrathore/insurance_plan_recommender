{
 "cells": [
  {
   "cell_type": "code",
   "execution_count": 60,
   "metadata": {
    "collapsed": true
   },
   "outputs": [],
   "source": [
    "from lxml import html, etree\n",
    "import requests\n",
    "import re\n",
    "import os\n",
    "import sys\n",
    "import unicodecsv as csv\n",
    "import argparse\n",
    "import json"
   ]
  },
  {
   "cell_type": "code",
   "execution_count": 79,
   "metadata": {
    "collapsed": true
   },
   "outputs": [],
   "source": [
    "def parse(keyword, place):\n",
    "\n",
    "\theaders = {\t'accept': 'text/html,application/xhtml+xml,application/xml;q=0.9,image/webp,*/*;q=0.8',\n",
    "\t\t\t\t'accept-encoding': 'gzip, deflate, sdch, br',\n",
    "\t\t\t\t'accept-language': 'en-GB,en-US;q=0.8,en;q=0.6',\n",
    "\t\t\t\t'referer': 'https://www.glassdoor.com/',\n",
    "\t\t\t\t'upgrade-insecure-requests': '1',\n",
    "\t\t\t\t'user-agent': 'Mozilla/5.0 (X11; Linux x86_64) AppleWebKit/537.36 (KHTML, like Gecko) Ubuntu Chromium/51.0.2704.79 Chrome/51.0.2704.79 Safari/537.36',\n",
    "\t\t\t\t'Cache-Control': 'no-cache',\n",
    "\t\t\t\t'Connection': 'keep-alive'\n",
    "\t}\n",
    "\n",
    "\tlocation_headers = {\n",
    "\t\t'accept': 'text/html,application/xhtml+xml,application/xml;q=0.9,image/webp,*/*;q=0.01',\n",
    "\t\t'accept-encoding': 'gzip, deflate, sdch, br',\n",
    "\t\t'accept-language': 'en-GB,en-US;q=0.8,en;q=0.6',\n",
    "\t\t'referer': 'https://www.glassdoor.com/',\n",
    "\t\t'upgrade-insecure-requests': '1',\n",
    "\t\t'user-agent': 'Mozilla/5.0 (X11; Linux x86_64) AppleWebKit/537.36 (KHTML, like Gecko) Ubuntu Chromium/51.0.2704.79 Chrome/51.0.2704.79 Safari/537.36',\n",
    "\t\t'Cache-Control': 'no-cache',\n",
    "\t\t'Connection': 'keep-alive'\n",
    "\t}\n",
    "\tdata = {\"term\": place,\n",
    "\t\t\t\"maxLocationsToReturn\": 10}\n",
    "\n",
    "\tlocation_url = \"https://www.glassdoor.co.in/findPopularLocationAjax.htm?\"\n",
    "\ttry:\n",
    "\t\t# Getting location id for search location\n",
    "\t\tprint(\"Fetching location details\")\n",
    "\t\tlocation_response = requests.post(location_url, headers=location_headers, data=data).json()\n",
    "\t\tplace_id = location_response[0]['locationId']\n",
    "\t\tjob_litsting_url = 'https://www.glassdoor.com/Job/jobs.htm'\n",
    "\t\t# Form data to get job results\n",
    "\t\tdata = {\n",
    "\t\t\t'clickSource': 'searchBtn',\n",
    "\t\t\t'sc.keyword': keyword,\n",
    "\t\t\t'locT': 'C',\n",
    "\t\t\t'locId': place_id,\n",
    "\t\t\t'jobType': ''\n",
    "\t\t}\n",
    "\n",
    "\t\tjob_listings = []\n",
    "\t\tif place_id:\n",
    "\t\t\tresponse = requests.post(job_litsting_url, headers=headers, data=data)\n",
    "\t\t\t# extracting data from\n",
    "\t\t\t# https://www.glassdoor.com/Job/jobs.htm?suggestCount=0&suggestChosen=true&clickSource=searchBtn&typedKeyword=andr&sc.keyword=android+developer&locT=C&locId=1146821&jobType=\n",
    "\t\t\tparser = html.fromstring(response.text)\n",
    "\t\t\t# Making absolute url \n",
    "\t\t\tbase_url = \"https://www.glassdoor.com\"\n",
    "\t\t\tparser.make_links_absolute(base_url)\n",
    "\n",
    "\t\t\tXPATH_ALL_JOB = '//li[@class=\"jl\"]'\n",
    "\t\t\tXPATH_NAME = './/a/text()'\n",
    "\t\t\tXPATH_JOB_URL = './/a/@href'\n",
    "\t\t\tXPATH_LOC = './/span[@class=\"subtle loc\"]/text()'\n",
    "\t\t\tXPATH_COMPANY = './/div[@class=\"flexbox empLoc\"]/div/text()'\n",
    "\t\t\tXPATH_SALARY = './/span[@class=\"green small\"]/text()'\n",
    "\n",
    "\t\t\tlistings = parser.xpath(XPATH_ALL_JOB)\n",
    "\t\t\tfor job in listings:\n",
    "\t\t\t\traw_job_name = job.xpath(XPATH_NAME)\n",
    "\t\t\t\traw_job_url = job.xpath(XPATH_JOB_URL)\n",
    "\t\t\t\traw_lob_loc = job.xpath(XPATH_LOC)\n",
    "\t\t\t\traw_company = job.xpath(XPATH_COMPANY)\n",
    "\t\t\t\traw_salary = job.xpath(XPATH_SALARY)\n",
    "\n",
    "\t\t\t\t# Cleaning data\n",
    "\t\t\t\tjob_name = ''.join(raw_job_name).strip('–') if raw_job_name else None\n",
    "\t\t\t\tjob_location = ''.join(raw_lob_loc) if raw_lob_loc else None\n",
    "\t\t\t\traw_state = re.findall(\",\\s?(.*)\\s?\", job_location)\n",
    "\t\t\t\tstate = ''.join(raw_state).strip()\n",
    "\t\t\t\traw_city = job_location.replace(state, '')\n",
    "\t\t\t\tcity = raw_city.replace(',', '').strip()\n",
    "\t\t\t\tcompany = ''.join(raw_company).replace('–','')\n",
    "\t\t\t\tsalary = ''.join(raw_salary).strip()\n",
    "\t\t\t\tjob_url = raw_job_url[0] if raw_job_url else None\n",
    "\n",
    "\t\t\t\tjobs = {\n",
    "\t\t\t\t\t\"Name\": job_name,\n",
    "\t\t\t\t\t\"Company\": company,\n",
    "\t\t\t\t\t\"State\": state,\n",
    "\t\t\t\t\t\"City\": city,\n",
    "\t\t\t\t\t\"Salary\": salary,\n",
    "\t\t\t\t\t\"Location\": job_location,\n",
    "\t\t\t\t\t#\"Url\": job_url\n",
    "\t\t\t\t}\n",
    "\t\t\t\tjob_listings.append(jobs)\n",
    "\n",
    "\t\t\treturn job_listings\n",
    "\t\telse:\n",
    "\t\t\tprint(\"location id not available\")\n",
    "\n",
    "\texcept:\n",
    "\t\tprint(\"Failed to load locations\")\n"
   ]
  },
  {
   "cell_type": "code",
   "execution_count": 80,
   "metadata": {
    "collapsed": true
   },
   "outputs": [],
   "source": [
    "keyword = \"Android Developer\"\n",
    "place = \"Mumbai\"\n",
    "#company = \"ideatree\""
   ]
  },
  {
   "cell_type": "code",
   "execution_count": 81,
   "metadata": {},
   "outputs": [
    {
     "name": "stdout",
     "output_type": "stream",
     "text": [
      "Fetching job details\n",
      "Fetching location details\n",
      "Writing data to output file\n"
     ]
    }
   ],
   "source": [
    "print(\"Fetching job details\")\n",
    "scraped_data = parse(keyword, place)#, company\n",
    "print(\"Writing data to output file\")\n",
    "\n",
    "with open('%s-%s-job-results.csv' % (keyword, place), 'wb')as csvfile:\n",
    "\tfieldnames = ['Name', 'Company', 'State','City', 'Salary', 'Location', 'Url']\n",
    "\twriter = csv.DictWriter(csvfile, fieldnames=fieldnames,quoting=csv.QUOTE_ALL)\n",
    "\twriter.writeheader()\n",
    "\tif scraped_data:\n",
    "\t\tfor data in scraped_data:\n",
    "\t\t\twriter.writerow(data)\n",
    "\telse:\n",
    "            print(\"Your search for %s, in %s does not match any jobs\"%(keyword,place))"
   ]
  },
  {
   "cell_type": "code",
   "execution_count": 83,
   "metadata": {},
   "outputs": [
    {
     "ename": "UnicodeDecodeError",
     "evalue": "'utf-8' codec can't decode byte 0xaa in position 3: invalid start byte",
     "output_type": "error",
     "traceback": [
      "\u001b[1;31m---------------------------------------------------------------------------\u001b[0m",
      "\u001b[1;31mUnicodeDecodeError\u001b[0m                        Traceback (most recent call last)",
      "\u001b[1;32mpandas/_libs/parsers.pyx\u001b[0m in \u001b[0;36mpandas._libs.parsers.TextReader._convert_tokens\u001b[1;34m()\u001b[0m\n",
      "\u001b[1;32mpandas/_libs/parsers.pyx\u001b[0m in \u001b[0;36mpandas._libs.parsers.TextReader._convert_with_dtype\u001b[1;34m()\u001b[0m\n",
      "\u001b[1;32mpandas/_libs/parsers.pyx\u001b[0m in \u001b[0;36mpandas._libs.parsers.TextReader._string_convert\u001b[1;34m()\u001b[0m\n",
      "\u001b[1;32mpandas/_libs/parsers.pyx\u001b[0m in \u001b[0;36mpandas._libs.parsers._string_box_utf8\u001b[1;34m()\u001b[0m\n",
      "\u001b[1;31mUnicodeDecodeError\u001b[0m: 'utf-8' codec can't decode byte 0xaa in position 3: invalid start byte",
      "\nDuring handling of the above exception, another exception occurred:\n",
      "\u001b[1;31mUnicodeDecodeError\u001b[0m                        Traceback (most recent call last)",
      "\u001b[1;32m<ipython-input-83-1256e8fbb812>\u001b[0m in \u001b[0;36m<module>\u001b[1;34m()\u001b[0m\n\u001b[1;32m----> 1\u001b[1;33m \u001b[0mhello\u001b[0m \u001b[1;33m=\u001b[0m \u001b[0mpd\u001b[0m\u001b[1;33m.\u001b[0m\u001b[0mread_csv\u001b[0m\u001b[1;33m(\u001b[0m\u001b[1;34m\"fake_data.txt\"\u001b[0m\u001b[1;33m)\u001b[0m\u001b[1;33m\u001b[0m\u001b[0m\n\u001b[0m",
      "\u001b[1;32mC:\\ProgramData\\Anaconda3\\lib\\site-packages\\pandas\\io\\parsers.py\u001b[0m in \u001b[0;36mparser_f\u001b[1;34m(filepath_or_buffer, sep, delimiter, header, names, index_col, usecols, squeeze, prefix, mangle_dupe_cols, dtype, engine, converters, true_values, false_values, skipinitialspace, skiprows, nrows, na_values, keep_default_na, na_filter, verbose, skip_blank_lines, parse_dates, infer_datetime_format, keep_date_col, date_parser, dayfirst, iterator, chunksize, compression, thousands, decimal, lineterminator, quotechar, quoting, escapechar, comment, encoding, dialect, tupleize_cols, error_bad_lines, warn_bad_lines, skipfooter, skip_footer, doublequote, delim_whitespace, as_recarray, compact_ints, use_unsigned, low_memory, buffer_lines, memory_map, float_precision)\u001b[0m\n\u001b[0;32m    707\u001b[0m                     skip_blank_lines=skip_blank_lines)\n\u001b[0;32m    708\u001b[0m \u001b[1;33m\u001b[0m\u001b[0m\n\u001b[1;32m--> 709\u001b[1;33m         \u001b[1;32mreturn\u001b[0m \u001b[0m_read\u001b[0m\u001b[1;33m(\u001b[0m\u001b[0mfilepath_or_buffer\u001b[0m\u001b[1;33m,\u001b[0m \u001b[0mkwds\u001b[0m\u001b[1;33m)\u001b[0m\u001b[1;33m\u001b[0m\u001b[0m\n\u001b[0m\u001b[0;32m    710\u001b[0m \u001b[1;33m\u001b[0m\u001b[0m\n\u001b[0;32m    711\u001b[0m     \u001b[0mparser_f\u001b[0m\u001b[1;33m.\u001b[0m\u001b[0m__name__\u001b[0m \u001b[1;33m=\u001b[0m \u001b[0mname\u001b[0m\u001b[1;33m\u001b[0m\u001b[0m\n",
      "\u001b[1;32mC:\\ProgramData\\Anaconda3\\lib\\site-packages\\pandas\\io\\parsers.py\u001b[0m in \u001b[0;36m_read\u001b[1;34m(filepath_or_buffer, kwds)\u001b[0m\n\u001b[0;32m    453\u001b[0m \u001b[1;33m\u001b[0m\u001b[0m\n\u001b[0;32m    454\u001b[0m     \u001b[1;32mtry\u001b[0m\u001b[1;33m:\u001b[0m\u001b[1;33m\u001b[0m\u001b[0m\n\u001b[1;32m--> 455\u001b[1;33m         \u001b[0mdata\u001b[0m \u001b[1;33m=\u001b[0m \u001b[0mparser\u001b[0m\u001b[1;33m.\u001b[0m\u001b[0mread\u001b[0m\u001b[1;33m(\u001b[0m\u001b[0mnrows\u001b[0m\u001b[1;33m)\u001b[0m\u001b[1;33m\u001b[0m\u001b[0m\n\u001b[0m\u001b[0;32m    456\u001b[0m     \u001b[1;32mfinally\u001b[0m\u001b[1;33m:\u001b[0m\u001b[1;33m\u001b[0m\u001b[0m\n\u001b[0;32m    457\u001b[0m         \u001b[0mparser\u001b[0m\u001b[1;33m.\u001b[0m\u001b[0mclose\u001b[0m\u001b[1;33m(\u001b[0m\u001b[1;33m)\u001b[0m\u001b[1;33m\u001b[0m\u001b[0m\n",
      "\u001b[1;32mC:\\ProgramData\\Anaconda3\\lib\\site-packages\\pandas\\io\\parsers.py\u001b[0m in \u001b[0;36mread\u001b[1;34m(self, nrows)\u001b[0m\n\u001b[0;32m   1067\u001b[0m                 \u001b[1;32mraise\u001b[0m \u001b[0mValueError\u001b[0m\u001b[1;33m(\u001b[0m\u001b[1;34m'skipfooter not supported for iteration'\u001b[0m\u001b[1;33m)\u001b[0m\u001b[1;33m\u001b[0m\u001b[0m\n\u001b[0;32m   1068\u001b[0m \u001b[1;33m\u001b[0m\u001b[0m\n\u001b[1;32m-> 1069\u001b[1;33m         \u001b[0mret\u001b[0m \u001b[1;33m=\u001b[0m \u001b[0mself\u001b[0m\u001b[1;33m.\u001b[0m\u001b[0m_engine\u001b[0m\u001b[1;33m.\u001b[0m\u001b[0mread\u001b[0m\u001b[1;33m(\u001b[0m\u001b[0mnrows\u001b[0m\u001b[1;33m)\u001b[0m\u001b[1;33m\u001b[0m\u001b[0m\n\u001b[0m\u001b[0;32m   1070\u001b[0m \u001b[1;33m\u001b[0m\u001b[0m\n\u001b[0;32m   1071\u001b[0m         \u001b[1;32mif\u001b[0m \u001b[0mself\u001b[0m\u001b[1;33m.\u001b[0m\u001b[0moptions\u001b[0m\u001b[1;33m.\u001b[0m\u001b[0mget\u001b[0m\u001b[1;33m(\u001b[0m\u001b[1;34m'as_recarray'\u001b[0m\u001b[1;33m)\u001b[0m\u001b[1;33m:\u001b[0m\u001b[1;33m\u001b[0m\u001b[0m\n",
      "\u001b[1;32mC:\\ProgramData\\Anaconda3\\lib\\site-packages\\pandas\\io\\parsers.py\u001b[0m in \u001b[0;36mread\u001b[1;34m(self, nrows)\u001b[0m\n\u001b[0;32m   1837\u001b[0m     \u001b[1;32mdef\u001b[0m \u001b[0mread\u001b[0m\u001b[1;33m(\u001b[0m\u001b[0mself\u001b[0m\u001b[1;33m,\u001b[0m \u001b[0mnrows\u001b[0m\u001b[1;33m=\u001b[0m\u001b[1;32mNone\u001b[0m\u001b[1;33m)\u001b[0m\u001b[1;33m:\u001b[0m\u001b[1;33m\u001b[0m\u001b[0m\n\u001b[0;32m   1838\u001b[0m         \u001b[1;32mtry\u001b[0m\u001b[1;33m:\u001b[0m\u001b[1;33m\u001b[0m\u001b[0m\n\u001b[1;32m-> 1839\u001b[1;33m             \u001b[0mdata\u001b[0m \u001b[1;33m=\u001b[0m \u001b[0mself\u001b[0m\u001b[1;33m.\u001b[0m\u001b[0m_reader\u001b[0m\u001b[1;33m.\u001b[0m\u001b[0mread\u001b[0m\u001b[1;33m(\u001b[0m\u001b[0mnrows\u001b[0m\u001b[1;33m)\u001b[0m\u001b[1;33m\u001b[0m\u001b[0m\n\u001b[0m\u001b[0;32m   1840\u001b[0m         \u001b[1;32mexcept\u001b[0m \u001b[0mStopIteration\u001b[0m\u001b[1;33m:\u001b[0m\u001b[1;33m\u001b[0m\u001b[0m\n\u001b[0;32m   1841\u001b[0m             \u001b[1;32mif\u001b[0m \u001b[0mself\u001b[0m\u001b[1;33m.\u001b[0m\u001b[0m_first_chunk\u001b[0m\u001b[1;33m:\u001b[0m\u001b[1;33m\u001b[0m\u001b[0m\n",
      "\u001b[1;32mpandas/_libs/parsers.pyx\u001b[0m in \u001b[0;36mpandas._libs.parsers.TextReader.read\u001b[1;34m()\u001b[0m\n",
      "\u001b[1;32mpandas/_libs/parsers.pyx\u001b[0m in \u001b[0;36mpandas._libs.parsers.TextReader._read_low_memory\u001b[1;34m()\u001b[0m\n",
      "\u001b[1;32mpandas/_libs/parsers.pyx\u001b[0m in \u001b[0;36mpandas._libs.parsers.TextReader._read_rows\u001b[1;34m()\u001b[0m\n",
      "\u001b[1;32mpandas/_libs/parsers.pyx\u001b[0m in \u001b[0;36mpandas._libs.parsers.TextReader._convert_column_data\u001b[1;34m()\u001b[0m\n",
      "\u001b[1;32mpandas/_libs/parsers.pyx\u001b[0m in \u001b[0;36mpandas._libs.parsers.TextReader._convert_tokens\u001b[1;34m()\u001b[0m\n",
      "\u001b[1;32mpandas/_libs/parsers.pyx\u001b[0m in \u001b[0;36mpandas._libs.parsers.TextReader._convert_with_dtype\u001b[1;34m()\u001b[0m\n",
      "\u001b[1;32mpandas/_libs/parsers.pyx\u001b[0m in \u001b[0;36mpandas._libs.parsers.TextReader._string_convert\u001b[1;34m()\u001b[0m\n",
      "\u001b[1;32mpandas/_libs/parsers.pyx\u001b[0m in \u001b[0;36mpandas._libs.parsers._string_box_utf8\u001b[1;34m()\u001b[0m\n",
      "\u001b[1;31mUnicodeDecodeError\u001b[0m: 'utf-8' codec can't decode byte 0xaa in position 3: invalid start byte"
     ]
    }
   ],
   "source": [
    "hello = pd.read_csv(\"fake_data.txt\")"
   ]
  },
  {
   "cell_type": "code",
   "execution_count": null,
   "metadata": {
    "collapsed": true
   },
   "outputs": [],
   "source": []
  }
 ],
 "metadata": {
  "kernelspec": {
   "display_name": "Python 3",
   "language": "python",
   "name": "python3"
  },
  "language_info": {
   "codemirror_mode": {
    "name": "ipython",
    "version": 3
   },
   "file_extension": ".py",
   "mimetype": "text/x-python",
   "name": "python",
   "nbconvert_exporter": "python",
   "pygments_lexer": "ipython3",
   "version": "3.6.1"
  }
 },
 "nbformat": 4,
 "nbformat_minor": 2
}
